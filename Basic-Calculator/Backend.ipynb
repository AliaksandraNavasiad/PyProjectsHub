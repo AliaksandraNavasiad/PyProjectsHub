# Function to perform operation
def calculate(operation):
    try:
        a = float(entry_first_number.get())
        b = float(entry_second_number.get())
        
        operations = {
            "Add": a + b,
            "Subtract": a - b,
            "Multiply": a * b,
            "Divide": a / b if b != 0 else "Error"
        }

        if operation == "Divide" and b == 0:
            messagebox.showerror("Error", "Cannot divide by zero!")
            return

        result_display.config(text=str(operations[operation]))
    except ValueError:
        messagebox.showerror("Invalid Input", "Please enter valid numbers!")
