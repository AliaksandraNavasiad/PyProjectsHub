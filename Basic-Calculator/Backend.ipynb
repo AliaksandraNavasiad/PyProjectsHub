{
 "cells": [
  {
   "cell_type": "markdown",
   "id": "2cb68fcc-9b83-48cf-b288-ff90aa1e6f61",
   "metadata": {},
   "source": [
    "# Backend"
   ]
  },
  {
   "cell_type": "code",
   "execution_count": 4,
   "id": "57c4bbf3-4e37-4dc6-af4d-2c0a8f6b30d8",
   "metadata": {},
   "outputs": [],
   "source": [
    "# Function to perform operation\n",
    "def calculate(operation):\n",
    "    try:\n",
    "        a = float(entry_first_number.get())\n",
    "        b = float(entry_second_number.get())\n",
    "        \n",
    "        operations = {\n",
    "            \"Add\": a + b,\n",
    "            \"Subtract\": a - b,\n",
    "            \"Multiply\": a * b,\n",
    "            \"Divide\": a / b if b != 0 else \"Error\"\n",
    "        }\n",
    "\n",
    "        if operation == \"Divide\" and b == 0:\n",
    "            messagebox.showerror(\"Error\", \"Cannot divide by zero!\")\n",
    "            return\n",
    "\n",
    "        result_display.config(text=str(operations[operation]))\n",
    "    except ValueError:\n",
    "        messagebox.showerror(\"Invalid Input\", \"Please enter valid numbers!\")"
   ]
  }
 ],
 "metadata": {
  "kernelspec": {
   "display_name": "Python 3 (ipykernel)",
   "language": "python",
   "name": "python3"
  },
  "language_info": {
   "codemirror_mode": {
    "name": "ipython",
    "version": 3
   },
   "file_extension": ".py",
   "mimetype": "text/x-python",
   "name": "python",
   "nbconvert_exporter": "python",
   "pygments_lexer": "ipython3",
   "version": "3.12.9"
  }
 },
 "nbformat": 4,
 "nbformat_minor": 5
}
