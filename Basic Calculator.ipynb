{
 "cells": [
  {
   "cell_type": "markdown",
   "id": "8cee5afe-cbb8-4d62-9960-df367eea3e28",
   "metadata": {},
   "source": [
    "# Version 01"
   ]
  },
  {
   "cell_type": "code",
   "execution_count": null,
   "id": "ea4b4e04-dbaa-4bbf-8963-ab19fdde6634",
   "metadata": {},
   "outputs": [
    {
     "name": "stdout",
     "output_type": "stream",
     "text": [
      "Select the operation you'd like to perform (choose number, e.g.: 1):\n",
      "    1. add\n",
      "    2. subtract\n",
      "    3. multiply\n",
      "    4. divide\n",
      "    \n"
     ]
    },
    {
     "name": "stdin",
     "output_type": "stream",
     "text": [
      "Enter an operation (1, 2, 3, or 4):  4\n",
      "Enter the first number (a):  4\n",
      "Enter the second number (b):  0\n"
     ]
    },
    {
     "name": "stdout",
     "output_type": "stream",
     "text": [
      "Result of Result of Division:  is Division by zero is not possible. Please try again.\n"
     ]
    },
    {
     "name": "stdin",
     "output_type": "stream",
     "text": [
      "Do you want to perform another calculation? (yes/no):  yes\n"
     ]
    },
    {
     "name": "stdout",
     "output_type": "stream",
     "text": [
      "Select the operation you'd like to perform (choose number, e.g.: 1):\n",
      "    1. add\n",
      "    2. subtract\n",
      "    3. multiply\n",
      "    4. divide\n",
      "    \n"
     ]
    }
   ],
   "source": [
    "def get_operation():\n",
    "    print(\"\"\"Select the operation you'd like to perform (choose number, e.g.: 1):\n",
    "    1. add\n",
    "    2. subtract\n",
    "    3. multiply\n",
    "    4. divide\n",
    "    \"\"\")\n",
    "    while True:\n",
    "        operation = input(\"Enter an operation (1, 2, 3, or 4): \")\n",
    "        if operation in ['1', '2', '3', '4']:\n",
    "            return operation\n",
    "        else:\n",
    "            print(\"Invalid input. Please try again.\")\n",
    "\n",
    "def get_number(prompt):\n",
    "    while True:\n",
    "        try:\n",
    "            return float(input(prompt))\n",
    "        except ValueError:\n",
    "            print(\"Oops.Try again.\")\n",
    "\n",
    "\n",
    "def perform_operation(operation, a, b):\n",
    "    # dictionary with deferred operations\n",
    "    operations = {\n",
    "        \"1\": (\"Result of Addition: \", lambda a, b: a + b),\n",
    "        \"2\": (\"Result of Subtraction: \", lambda a, b: a - b),\n",
    "        \"3\": (\"Result of Multiplication: \", lambda a, b: a * b),\n",
    "        \"4\": (\"Result of Division: \", lambda a, b: a / b if b != 0 else \"Division by zero is not possible. Please try again.\")\n",
    "    }\n",
    "    # access operation name and function\n",
    "    operation_name, func = operations[operation]\n",
    "    # caculate result\n",
    "    result = func(a,b) \n",
    "    print(f\"Result of {operation_name} is {result}\")\n",
    "    \n",
    "# Main loop for calculation\n",
    "while True:\n",
    "    operation = get_operation()\n",
    "    a = get_number(\"Enter the first number (a): \")\n",
    "    b = get_number(\"Enter the second number (b): \")\n",
    "    perform_operation(operation, a, b)\n",
    "\n",
    "    # loop for next calculation\n",
    "    again = input(\"Do you want to perform another calculation? (yes/no): \")\n",
    "    if again != \"yes\":\n",
    "        print(\"Goodbye.\")\n",
    "        break"
   ]
  },
  {
   "cell_type": "code",
   "execution_count": null,
   "id": "0533a893-e109-4093-865f-9cfa93372086",
   "metadata": {},
   "outputs": [],
   "source": []
  }
 ],
 "metadata": {
  "kernelspec": {
   "display_name": "Python 3 (ipykernel)",
   "language": "python",
   "name": "python3"
  },
  "language_info": {
   "codemirror_mode": {
    "name": "ipython",
    "version": 3
   },
   "file_extension": ".py",
   "mimetype": "text/x-python",
   "name": "python",
   "nbconvert_exporter": "python",
   "pygments_lexer": "ipython3",
   "version": "3.12.9"
  }
 },
 "nbformat": 4,
 "nbformat_minor": 5
}
